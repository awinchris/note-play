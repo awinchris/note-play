{
 "cells": [
  {
   "cell_type": "code",
   "execution_count": 29,
   "metadata": {
    "collapsed": true
   },
   "outputs": [],
   "source": [
    "__author__ = 'Nikola Djuza RA6-2012'\n",
    "\n",
    "import numpy as np\n",
    "import sys\n",
    "import cv2\n",
    "import matplotlib.pyplot as plt\n",
    "\n",
    "from sklearn.cluster import KMeans\n",
    "from midiutil.MidiFile import MIDIFile"
   ]
  },
  {
   "cell_type": "code",
   "execution_count": 33,
   "metadata": {
    "collapsed": true
   },
   "outputs": [],
   "source": [
    "def display_image(image, color= False):\n",
    "    if color:\n",
    "        plt.imshow(image)\n",
    "    else:\n",
    "        plt.imshow(image, 'gray')\n",
    "\n",
    "def importAndPrepareImage(imagePath):\n",
    "    image = cv2.imread(imagePath)\n",
    "    ret, image_bin = cv2.threshold(image, 200, 255, cv2.THRESH_BINARY)\n",
    "    \n",
    "    display_image(gray)\n",
    "    return image_bin"
   ]
  },
  {
   "cell_type": "code",
   "execution_count": 34,
   "metadata": {
    "collapsed": true
   },
   "outputs": [],
   "source": [
    "def createFiveline(image):\n",
    "    edges = cv2.Canny(image, 50, 150, apertureSize=3)\n",
    "\n",
    "    ys = list()\n",
    "    minLineLength = 5\n",
    "    maxLineGap = 30\n",
    "\n",
    "    lines = cv2.HoughLinesP(edges, 1, np.pi / 180, 70, minLineLength, maxLineGap)\n",
    "    \n",
    "    for x1,y1,x2,y2 in lines[0]:\n",
    "        cv2.line(image, (x1,y1), (x2,y2), (0, 255, 0), 2)\n",
    "        \n",
    "    cv2.imwrite('test.png', image)\n",
    "    \n",
    "    for line in lines:\n",
    "        for x1, y1, x2, y2 in line:\n",
    "            if (abs(y1 - y2 < 4)):\n",
    "                innerlist = list()\n",
    "                innerlist.append((y1 + y2) / 2)\n",
    "                ys.append(innerlist)\n",
    "\n",
    "    kmeans = KMeans(init='k-means++', n_clusters=5, n_init=10)\n",
    "    kmeans.fit(np.asarray(ys))\n",
    "\n",
    "    fiveline = list()\n",
    "    for innerlist in kmeans.cluster_centers_:\n",
    "        fiveline.append(innerlist[0])\n",
    "\n",
    "    fiveline.sort()\n",
    "    return img"
   ]
  },
  {
   "cell_type": "code",
   "execution_count": 35,
   "metadata": {
    "collapsed": false
   },
   "outputs": [
    {
     "data": {
      "text/plain": [
       "True"
      ]
     },
     "execution_count": 35,
     "metadata": {},
     "output_type": "execute_result"
    }
   ],
   "source": [
    "img = importAndPrepareImage('test.png')\n",
    "cv2.imwrite('test.png', img)"
   ]
  },
  {
   "cell_type": "code",
   "execution_count": null,
   "metadata": {
    "collapsed": true
   },
   "outputs": [],
   "source": []
  }
 ],
 "metadata": {
  "kernelspec": {
   "display_name": "Python 2",
   "language": "python",
   "name": "python2"
  },
  "language_info": {
   "codemirror_mode": {
    "name": "ipython",
    "version": 2
   },
   "file_extension": ".py",
   "mimetype": "text/x-python",
   "name": "python",
   "nbconvert_exporter": "python",
   "pygments_lexer": "ipython2",
   "version": "2.7.10"
  }
 },
 "nbformat": 4,
 "nbformat_minor": 0
}
