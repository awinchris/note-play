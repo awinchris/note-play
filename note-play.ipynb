{
 "cells": [
  {
   "cell_type": "code",
   "execution_count": 1,
   "metadata": {
    "collapsed": false
   },
   "outputs": [],
   "source": [
    "__author__ = 'Nikola Djuza RA6-2012'\n",
    "\n",
    "%matplotlib inline\n",
    "import numpy as np\n",
    "import collections\n",
    "import sys\n",
    "import cv2\n",
    "import scipy as sc\n",
    "import matplotlib.pyplot as plt\n",
    "\n",
    "# pylab.rcParams['figure.figsize'] = 16, 12\n",
    "\n",
    "from sklearn.cluster import KMeans\n",
    "from midiutil.MidiFile import MIDIFile"
   ]
  },
  {
   "cell_type": "code",
   "execution_count": 2,
   "metadata": {
    "collapsed": true
   },
   "outputs": [],
   "source": [
    "def display_image(image, color = False):\n",
    "    if color:\n",
    "        plt.imshow(image)\n",
    "    else:\n",
    "        plt.imshow(image, 'gray')\n",
    "\n",
    "def load_and_prepare_image(image_path):\n",
    "    image = cv2.imread(image_path)\n",
    "    ret, image_bin = cv2.threshold(image, 200, 255, cv2.THRESH_BINARY)\n",
    "\n",
    "    return image_bin"
   ]
  },
  {
   "cell_type": "code",
   "execution_count": 3,
   "metadata": {
    "collapsed": true
   },
   "outputs": [],
   "source": [
    "def create_fiveline(image):\n",
    "    edges = cv2.Canny(image, 50, 150, apertureSize=3)\n",
    "\n",
    "    ys = list()\n",
    "    minLineLength = 1\n",
    "    maxLineGap = 10\n",
    "\n",
    "    lines = cv2.HoughLinesP(edges, 1, np.pi / 180, 70, minLineLength, maxLineGap)\n",
    "    \n",
    "    for line in lines:\n",
    "        for x1, y1, x2, y2 in line:\n",
    "            cv2.line(image, (x1,y1), (x2,y2), (0, 255, 0), 2)\n",
    "            if (abs(y1 - y2 < 4)):\n",
    "                innerlist = list()\n",
    "                innerlist.append((y1 + y2) / 2)\n",
    "                ys.append(innerlist)\n",
    "    \n",
    "    cv2.imwrite('images/houghlines.jpg', image)\n",
    "    display_image(image)\n",
    "\n",
    "    kmeans = KMeans(init='k-means++', n_clusters=5, n_init=10)\n",
    "    kmeans.fit(np.asarray(ys))\n",
    "\n",
    "    fiveline = list()\n",
    "    for innerlist in kmeans.cluster_centers_:\n",
    "        fiveline.append(innerlist[0])\n",
    "\n",
    "    fiveline.sort()\n",
    "    print fiveline\n",
    "    return fiveline"
   ]
  },
  {
   "cell_type": "code",
   "execution_count": 4,
   "metadata": {
    "collapsed": true
   },
   "outputs": [],
   "source": [
    "def create_checks(fiveline):\n",
    "    checks = list()\n",
    "    dist = abs(fiveline[1] - fiveline[0])\n",
    "    \n",
    "    for line in fiveline:\n",
    "        checks.append(int(line - (dist / 4)))\n",
    "        checks.append(int(line + (dist / 4)))\n",
    "\n",
    "    checks.sort()\n",
    "    checks.reverse()\n",
    "    return checks"
   ]
  },
  {
   "cell_type": "code",
   "execution_count": 5,
   "metadata": {
    "collapsed": true
   },
   "outputs": [],
   "source": [
    "def create_bars_coordinates(img, fiveline, checks):\n",
    "    barsBegins = list();\n",
    "    barsEnds = list();\n",
    "    bars = list()\n",
    "\n",
    "    height, width = img.shape[:2]\n",
    "\n",
    "    barsFlag = False\n",
    "    leftCounter = 0\n",
    "    rightCounter = 0\n",
    "    for x in range(width):\n",
    "        gen = (i for i in range(int(fiveline[0] + 2), int(fiveline[4])) if img[i, x][0] == 0)\n",
    "\n",
    "        c = 0\n",
    "        for i in gen:\n",
    "            c += 1\n",
    "\n",
    "        if barsFlag is False and c == abs(int(fiveline[0] + 2) - int(fiveline[4])):\n",
    "\n",
    "            for l in range(x - 5, x - 2):\n",
    "                for y in checks:\n",
    "                    if img[y, l][0] == 0:\n",
    "                        # gray[y, x] = [255, 0, 0]\n",
    "                        leftCounter += 1\n",
    "\n",
    "            barsBegins.append(x)\n",
    "            barsFlag = True\n",
    "\n",
    "        if barsFlag is True and not (c == abs(int(fiveline[0] + 2) - int(fiveline[4]))):\n",
    "\n",
    "            for r in range(x + 2, x + 5):\n",
    "                for y in checks:\n",
    "                    if img[y, r][0] == 0:\n",
    "                        # gray[y, x] = [255, 0, 0]\n",
    "                        rightCounter += 1\n",
    "            barsEnds.append(x)\n",
    "            barsFlag = False\n",
    "\n",
    "            if leftCounter > 0 or rightCounter > 0:\n",
    "                # barsEnds.\n",
    "                barsEnds.pop(len(barsEnds) - 1)\n",
    "                barsBegins.pop(len(barsBegins) - 1)\n",
    "            leftCounter = 0\n",
    "            rightCounter = 0\n",
    "\n",
    "    print\n",
    "    print barsBegins\n",
    "    print barsEnds\n",
    "    print\n",
    "\n",
    "    return barsBegins, barsEnds"
   ]
  },
  {
   "cell_type": "code",
   "execution_count": 6,
   "metadata": {
    "collapsed": true
   },
   "outputs": [],
   "source": [
    "def find_all_notes(noteValues, img, checks, barsBegins, barsEnds):\n",
    "    iTunes = list()\n",
    "    for bar in range(len(barsBegins) - 1):\n",
    "        barLength = abs(barsEnds[bar] - barsBegins[bar + 1]) - 2\n",
    "        pointsX = list()\n",
    "        pointsY = list()\n",
    "        for x in range(barsEnds[bar] + 1, barsBegins[bar + 1] - 1):\n",
    "            for y in checks:\n",
    "                if img[y, x][0] == 0:\n",
    "                    # gray[y, x] = [255, 0, 0]\n",
    "                    innerlistX = list()\n",
    "                    innerlistX.append(x)\n",
    "                    innerlistY = list()\n",
    "                    innerlistY.append(y)\n",
    "                    pointsX.append(innerlistX)\n",
    "                    pointsY.append(innerlistY)\n",
    "\n",
    "        kmeans2 = KMeans(init='k-means++', n_clusters=4, n_init=10)\n",
    "        kmeans2.fit(np.asarray(pointsX), np.asarray(pointsY))\n",
    "\n",
    "        notes = list()\n",
    "        kmeans2.cluster_centers_.sort(axis=0)\n",
    "        if abs(kmeans2.cluster_centers_[3, 0] - kmeans2.cluster_centers_[0, 0]) < 2:\n",
    "            continue\n",
    "\n",
    "        # print kmeans2.cluster_centers_\n",
    "        notes.append(kmeans2.cluster_centers_[0, 0])\n",
    "\n",
    "        for cc in range(1, kmeans2.cluster_centers_.shape[0]):\n",
    "            if abs(kmeans2.cluster_centers_[cc, 0] - notes[len(notes) - 1]) > (\n",
    "                        abs(barsEnds[bar] - barsBegins[bar + 1]) - 2) / 6:\n",
    "                notes.append(kmeans2.cluster_centers_[cc, 0])\n",
    "            else:\n",
    "                notes[len(notes) - 1] = (notes[len(notes) - 1] + kmeans2.cluster_centers_[cc, 0]) / 2\n",
    "\n",
    "        print notes\n",
    "\n",
    "        notePointsList = list()\n",
    "        for note in notes:\n",
    "            notePoints = 0\n",
    "            for x in range(int(note - barLength / 14), int(note + barLength / 14)):\n",
    "                for y in checks:\n",
    "                    if img[y, x][0] == 0:\n",
    "                        # gray[y, x] = [255, 0, 0]\n",
    "                        notePoints += 1\n",
    "\n",
    "            print notePoints\n",
    "            notePointsList.append(notePoints)\n",
    "\n",
    "        for note in notes:\n",
    "            noteLength = 0\n",
    "            if len(notes) == 1:\n",
    "                noteLength = 4\n",
    "            elif len(notes) == 2:\n",
    "                noteLength = 2;\n",
    "            elif len(notes) == 3:\n",
    "                if notes.index(note) == notePointsList.index(min(notePointsList)):\n",
    "                    noteLength = 2\n",
    "                else:\n",
    "                    noteLength = 1\n",
    "            elif len(notes) == 4:\n",
    "                noteLength = 1\n",
    "\n",
    "            noteHeight = 0\n",
    "            for l in range(int(note - 20), int(note + 20)):\n",
    "                ntCounter = 0\n",
    "                for y in checks:\n",
    "                    if img[y, l][0] == 0:\n",
    "                        ntCounter += 1\n",
    "                if ntCounter == 2:\n",
    "                    for y in checks:\n",
    "                        if img[y, l][0] == 0:\n",
    "                            noteHeight = noteValues[checks.index(y)]\n",
    "                            break;\n",
    "\n",
    "                    break\n",
    "\n",
    "            iTunes.append((noteLength, noteHeight))\n",
    "\n",
    "        print\n",
    "    print iTunes\n",
    "    return iTunes"
   ]
  },
  {
   "cell_type": "code",
   "execution_count": 7,
   "metadata": {
    "collapsed": true
   },
   "outputs": [],
   "source": [
    "def export_tunes_to_MIDI_file(iTunes, outputPath):\n",
    "    MyMIDI = MIDIFile(1)\n",
    "\n",
    "    track = 0\n",
    "    time = 0\n",
    "\n",
    "    MyMIDI.addTrackName(track, time, \"Sample Track\")\n",
    "    MyMIDI.addTempo(track, time, 240)\n",
    "\n",
    "    track = 0\n",
    "    channel = 0\n",
    "    pitch = 60\n",
    "    time = 0\n",
    "    duration = 1\n",
    "    volume = 100\n",
    "\n",
    "    time = 0\n",
    "    for noteLength, noteHeight in iTunes:\n",
    "        MyMIDI.addNote(track, channel, noteHeight, time, noteLength, volume)\n",
    "        time += duration * noteLength\n",
    "\n",
    "    binfile = open(outputPath, 'wb')\n",
    "    MyMIDI.writeFile(binfile)\n",
    "    binfile.close()"
   ]
  },
  {
   "cell_type": "code",
   "execution_count": 8,
   "metadata": {
    "collapsed": false
   },
   "outputs": [],
   "source": [
    "def create_MIDI_file_from_img(img_path, note_values):\n",
    "    full_img_path = 'images/' + img_path + '.png'\n",
    "    img = load_and_prepare_image(full_img_path)\n",
    "\n",
    "    height, width = img.shape[:2]\n",
    "\n",
    "    fiveline = create_fiveline(img)\n",
    "\n",
    "    checks = create_checks(fiveline)\n",
    "\n",
    "    barsBegins, barsEnds = create_bars_coordinates(img, fiveline, checks)\n",
    "\n",
    "    iTunes = find_all_notes(note_values, img, checks, barsBegins, barsEnds)\n",
    "\n",
    "    export_tunes_to_MIDI_file(iTunes, 'images/' + img_path + \".mid\")"
   ]
  },
  {
   "cell_type": "code",
   "execution_count": 14,
   "metadata": {
    "collapsed": false
   },
   "outputs": [
    {
     "name": "stdout",
     "output_type": "stream",
     "text": [
      "[41.285714285714285, 61.536585365853668, 81.086956521739125, 100.71739130434784, 121.34375]\n",
      "\n",
      "[48, 278, 623, 921, 1267, 1496]\n",
      "[53, 282, 628, 925, 1271, 1501]\n",
      "\n",
      "[99.589423076923055, 216.56818181818181]\n",
      "66\n",
      "43\n",
      "\n",
      "[341.08955223880605, 423.40909090909099, 506.43750000000006, 576.90909090909099]\n",
      "67\n",
      "66\n",
      "64\n",
      "77\n",
      "\n",
      "[694.41666666666652, 810.6755793226381]\n",
      "74\n",
      "73\n",
      "\n",
      "[994.82352941176475, 1108.060606060606, 1189.7266666666665]\n",
      "51\n",
      "66\n",
      "74\n",
      "\n",
      "[1320.6612903225805, 1417.3191985088538]\n",
      "64\n",
      "64\n",
      "\n",
      "[(2, 57), (2, 0), (1, 59), (1, 60), (1, 59), (1, 62), (2, 55), (2, 55), (2, 52), (1, 57), (1, 52), (2, 59), (2, 60)]\n",
      "[41.428571428571423, 60.79999999999999, 81.25, 100.91666666666666, 120.96969696969697]\n",
      "\n",
      "[]\n",
      "[]\n",
      "\n",
      "[]\n"
     ]
    },
    {
     "data": {
      "image/png": "[encoded data removed]",
      "text/plain": [
       "<matplotlib.figure.Figure at 0x7f8db9664b10>"
      ]
     },
     "metadata": {},
     "output_type": "display_data"
    }
   ],
   "source": [
    "note_values = (52, 53, 55, 57, 59, 60, 62, 64, 65, 67, 69, 71, 72, 74, 76, 77, 79, 81, 83)\n",
    "\n",
    "#create_MIDI_file_from_img('test', note_values)\n",
    "#create_MIDI_file_from_img('notes', note_values)\n",
    "create_MIDI_file_from_img('bibermore_notes', note_values)\n",
    "#create_MIDI_file_from_img('brankamore_notes', note_values)\n",
    "create_MIDI_file_from_img('brankatest', note_values)\n",
    "#create_MIDI_file_from_img('more_notes', note_values)\n",
    "#create_MIDI_file_from_img('more_notes-1', note_values)\n",
    "#create_MIDI_file_from_img('notes-1', note_values)"
   ]
  },
  {
   "cell_type": "code",
   "execution_count": 10,
   "metadata": {
    "collapsed": false
   },
   "outputs": [
    {
     "name": "stdout",
     "output_type": "stream",
     "text": [
      "[NbConvertApp] Converting notebook note-play.ipynb to script\n",
      "[NbConvertApp] Writing 7947 bytes to note-play.py\n"
     ]
    }
   ],
   "source": [
    "!ipython nbconvert --to script note-play.ipynb"
   ]
  }
 ],
 "metadata": {
  "kernelspec": {
   "display_name": "Python 2",
   "language": "python",
   "name": "python2"
  },
  "language_info": {
   "codemirror_mode": {
    "name": "ipython",
    "version": 2
   },
   "file_extension": ".py",
   "mimetype": "text/x-python",
   "name": "python",
   "nbconvert_exporter": "python",
   "pygments_lexer": "ipython2",
   "version": "2.7.11"
  }
 },
 "nbformat": 4,
 "nbformat_minor": 0
}
