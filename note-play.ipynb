{
 "cells": [
  {
   "cell_type": "code",
   "execution_count": 23,
   "metadata": {
    "collapsed": false
   },
   "outputs": [],
   "source": [
    "__author__ = 'Nikola Djuza RA6-2012'\n",
    "\n",
    "%matplotlib inline\n",
    "import numpy as np\n",
    "import collections\n",
    "import sys\n",
    "import cv2\n",
    "import scipy as sc\n",
    "import matplotlib.pyplot as plt\n",
    "\n",
    "# pylab.rcParams['figure.figsize'] = 16, 12\n",
    "\n",
    "from sklearn.cluster import KMeans\n",
    "from midiutil.MidiFile import MIDIFile"
   ]
  },
  {
   "cell_type": "code",
   "execution_count": 24,
   "metadata": {
    "collapsed": true
   },
   "outputs": [],
   "source": [
    "def display_image(image, color = False):\n",
    "    if color:\n",
    "        plt.imshow(image)\n",
    "    else:\n",
    "        plt.imshow(image, 'gray')\n",
    "\n",
    "def load_and_prepare_image(image_path):\n",
    "    image = cv2.imread(image_path)\n",
    "    ret, image_bin = cv2.threshold(image, 200, 255, cv2.THRESH_BINARY)\n",
    "\n",
    "    return image_bin"
   ]
  },
  {
   "cell_type": "code",
   "execution_count": 25,
   "metadata": {
    "collapsed": true
   },
   "outputs": [],
   "source": [
    "def create_fiveline(image):\n",
    "    edges = cv2.Canny(image, 50, 150, apertureSize=3)\n",
    "\n",
    "    ys = list()\n",
    "    minLineLength = 1\n",
    "    maxLineGap = 10\n",
    "\n",
    "    lines = cv2.HoughLinesP(edges, 1, np.pi / 180, 70, minLineLength, maxLineGap)\n",
    "    \n",
    "    for line in lines:\n",
    "        for x1, y1, x2, y2 in line:\n",
    "            cv2.line(image, (x1,y1), (x2,y2), (0, 255, 0), 2)\n",
    "            if (abs(y1 - y2 < 4)):\n",
    "                innerlist = list()\n",
    "                innerlist.append((y1 + y2) / 2)\n",
    "                ys.append(innerlist)\n",
    "    \n",
    "    cv2.imwrite('images/houghlines.jpg', image)\n",
    "    display_image(image)\n",
    "\n",
    "    kmeans = KMeans(init='k-means++', n_clusters=5, n_init=10)\n",
    "    kmeans.fit(np.asarray(ys))\n",
    "\n",
    "    fiveline = list()\n",
    "    for innerlist in kmeans.cluster_centers_:\n",
    "        fiveline.append(innerlist[0])\n",
    "\n",
    "    fiveline.sort()\n",
    "    print fiveline\n",
    "    return fiveline"
   ]
  },
  {
   "cell_type": "code",
   "execution_count": 26,
   "metadata": {
    "collapsed": true
   },
   "outputs": [],
   "source": [
    "def create_checks(fiveline):\n",
    "    checks = list()\n",
    "    dist = abs(fiveline[1] - fiveline[0])\n",
    "    \n",
    "    for line in fiveline:\n",
    "        checks.append(int(line - (dist / 4)))\n",
    "        checks.append(int(line + (dist / 4)))\n",
    "\n",
    "    checks.sort()\n",
    "    checks.reverse()\n",
    "    return checks"
   ]
  },
  {
   "cell_type": "code",
   "execution_count": 27,
   "metadata": {
    "collapsed": true
   },
   "outputs": [],
   "source": [
    "def create_bars_coordinates(img, fiveline, checks):\n",
    "    barsBegins = list();\n",
    "    barsEnds = list();\n",
    "    bars = list()\n",
    "\n",
    "    height, width = img.shape[:2]\n",
    "\n",
    "    barsFlag = False\n",
    "    leftCounter = 0\n",
    "    rightCounter = 0\n",
    "    for x in range(width):\n",
    "        gen = (i for i in range(int(fiveline[0] + 2), int(fiveline[4])) if img[i, x][0] == 0)\n",
    "\n",
    "        c = 0\n",
    "        for i in gen:\n",
    "            c += 1\n",
    "\n",
    "        if barsFlag is False and c == abs(int(fiveline[0] + 2) - int(fiveline[4])):\n",
    "\n",
    "            for l in range(x - 5, x - 2):\n",
    "                for y in checks:\n",
    "                    if img[y, l][0] == 0:\n",
    "                        # gray[y, x] = [255, 0, 0]\n",
    "                        leftCounter += 1\n",
    "\n",
    "            barsBegins.append(x)\n",
    "            barsFlag = True\n",
    "\n",
    "        if barsFlag is True and not (c == abs(int(fiveline[0] + 2) - int(fiveline[4]))):\n",
    "\n",
    "            for r in range(x + 2, x + 5):\n",
    "                for y in checks:\n",
    "                    if img[y, r][0] == 0:\n",
    "                        # gray[y, x] = [255, 0, 0]\n",
    "                        rightCounter += 1\n",
    "            barsEnds.append(x)\n",
    "            barsFlag = False\n",
    "\n",
    "            if leftCounter > 0 or rightCounter > 0:\n",
    "                # barsEnds.\n",
    "                barsEnds.pop(len(barsEnds) - 1)\n",
    "                barsBegins.pop(len(barsBegins) - 1)\n",
    "            leftCounter = 0\n",
    "            rightCounter = 0\n",
    "\n",
    "    print\n",
    "    print barsBegins\n",
    "    print barsEnds\n",
    "    print\n",
    "\n",
    "    return barsBegins, barsEnds"
   ]
  },
  {
   "cell_type": "code",
   "execution_count": 28,
   "metadata": {
    "collapsed": true
   },
   "outputs": [],
   "source": [
    "def find_all_notes(noteValues, img, checks, barsBegins, barsEnds):\n",
    "    iTunes = list()\n",
    "    for bar in range(len(barsBegins) - 1):\n",
    "        barLength = abs(barsEnds[bar] - barsBegins[bar + 1]) - 2\n",
    "        pointsX = list()\n",
    "        pointsY = list()\n",
    "        for x in range(barsEnds[bar] + 1, barsBegins[bar + 1] - 1):\n",
    "            for y in checks:\n",
    "                if img[y, x][0] == 0:\n",
    "                    # gray[y, x] = [255, 0, 0]\n",
    "                    innerlistX = list()\n",
    "                    innerlistX.append(x)\n",
    "                    innerlistY = list()\n",
    "                    innerlistY.append(y)\n",
    "                    pointsX.append(innerlistX)\n",
    "                    pointsY.append(innerlistY)\n",
    "\n",
    "        kmeans2 = KMeans(init='k-means++', n_clusters=4, n_init=10)\n",
    "        kmeans2.fit(np.asarray(pointsX), np.asarray(pointsY))\n",
    "\n",
    "        notes = list()\n",
    "        kmeans2.cluster_centers_.sort(axis=0)\n",
    "        if abs(kmeans2.cluster_centers_[3, 0] - kmeans2.cluster_centers_[0, 0]) < 2:\n",
    "            continue\n",
    "\n",
    "        # print kmeans2.cluster_centers_\n",
    "        notes.append(kmeans2.cluster_centers_[0, 0])\n",
    "\n",
    "        for cc in range(1, kmeans2.cluster_centers_.shape[0]):\n",
    "            if abs(kmeans2.cluster_centers_[cc, 0] - notes[len(notes) - 1]) > (\n",
    "                        abs(barsEnds[bar] - barsBegins[bar + 1]) - 2) / 6:\n",
    "                notes.append(kmeans2.cluster_centers_[cc, 0])\n",
    "            else:\n",
    "                notes[len(notes) - 1] = (notes[len(notes) - 1] + kmeans2.cluster_centers_[cc, 0]) / 2\n",
    "\n",
    "        print notes\n",
    "\n",
    "        notePointsList = list()\n",
    "        for note in notes:\n",
    "            notePoints = 0\n",
    "            for x in range(int(note - barLength / 14), int(note + barLength / 14)):\n",
    "                for y in checks:\n",
    "                    if img[y, x][0] == 0:\n",
    "                        # gray[y, x] = [255, 0, 0]\n",
    "                        notePoints += 1\n",
    "\n",
    "            print notePoints\n",
    "            notePointsList.append(notePoints)\n",
    "\n",
    "        for note in notes:\n",
    "            noteLength = 0\n",
    "            if len(notes) == 1:\n",
    "                noteLength = 4\n",
    "            elif len(notes) == 2:\n",
    "                noteLength = 2;\n",
    "            elif len(notes) == 3:\n",
    "                if notes.index(note) == notePointsList.index(min(notePointsList)):\n",
    "                    noteLength = 2\n",
    "                else:\n",
    "                    noteLength = 1\n",
    "            elif len(notes) == 4:\n",
    "                noteLength = 1\n",
    "\n",
    "            noteHeight = 0\n",
    "            for l in range(int(note - 20), int(note + 20)):\n",
    "                ntCounter = 0\n",
    "                for y in checks:\n",
    "                    if img[y, l][0] == 0:\n",
    "                        ntCounter += 1\n",
    "                if ntCounter == 2:\n",
    "                    for y in checks:\n",
    "                        if img[y, l][0] == 0:\n",
    "                            noteHeight = noteValues[checks.index(y)]\n",
    "                            break;\n",
    "\n",
    "                    break\n",
    "\n",
    "            iTunes.append((noteLength, noteHeight))\n",
    "\n",
    "        print\n",
    "    print iTunes\n",
    "    return iTunes"
   ]
  },
  {
   "cell_type": "code",
   "execution_count": 29,
   "metadata": {
    "collapsed": true
   },
   "outputs": [],
   "source": [
    "def export_tunes_to_MIDI_file(iTunes, outputPath):\n",
    "    MyMIDI = MIDIFile(1)\n",
    "\n",
    "    track = 0\n",
    "    time = 0\n",
    "\n",
    "    MyMIDI.addTrackName(track, time, \"Sample Track\")\n",
    "    MyMIDI.addTempo(track, time, 240)\n",
    "\n",
    "    track = 0\n",
    "    channel = 0\n",
    "    pitch = 60\n",
    "    time = 0\n",
    "    duration = 1\n",
    "    volume = 100\n",
    "\n",
    "    time = 0\n",
    "    for noteLength, noteHeight in iTunes:\n",
    "        MyMIDI.addNote(track, channel, noteHeight, time, noteLength, volume)\n",
    "        time += duration * noteLength\n",
    "\n",
    "    binfile = open(outputPath, 'wb')\n",
    "    MyMIDI.writeFile(binfile)\n",
    "    binfile.close()"
   ]
  },
  {
   "cell_type": "code",
   "execution_count": 30,
   "metadata": {
    "collapsed": false
   },
   "outputs": [
    {
     "name": "stdout",
     "output_type": "stream",
     "text": [
      "[41.461538461538439, 61.243902439024367, 80.977272727272734, 101.24390243902437, 121.27027027027025]\n",
      "\n",
      "[48, 278, 623, 921, 1267, 1496]\n",
      "[53, 282, 628, 925, 1271, 1501]\n",
      "\n",
      "[122.35075757575758]\n",
      "33\n",
      "\n",
      "[341.765625, 423.40909090909093, 504.69047619047626]\n",
      "68\n",
      "66\n",
      "42\n",
      "\n",
      "[694.42391304347825, 810.67794970986461]\n",
      "58\n",
      "58\n",
      "\n",
      "[994.82352941176453, 1108.2857142857142, 1189.7266666666665]\n",
      "51\n",
      "63\n",
      "74\n",
      "\n",
      "[1338.7146464646464]\n",
      "34\n",
      "\n",
      "[(4, 60), (1, 59), (1, 60), (2, 59), (2, 55), (2, 55), (2, 52), (1, 57), (1, 52), (4, 52)]\n"
     ]
    },
    {
     "ename": "NameError",
     "evalue": "name 'imgPath' is not defined",
     "output_type": "error",
     "traceback": [
      "\u001b[1;31m---------------------------------------------------------------------------\u001b[0m",
      "\u001b[1;31mNameError\u001b[0m                                 Traceback (most recent call last)",
      "\u001b[1;32m<ipython-input-30-a6ef3c74469c>\u001b[0m in \u001b[0;36m<module>\u001b[1;34m()\u001b[0m\n\u001b[0;32m     12\u001b[0m \u001b[0miTunes\u001b[0m \u001b[1;33m=\u001b[0m \u001b[0mfind_all_notes\u001b[0m\u001b[1;33m(\u001b[0m\u001b[0mnoteValues\u001b[0m\u001b[1;33m,\u001b[0m \u001b[0mimg\u001b[0m\u001b[1;33m,\u001b[0m \u001b[0mchecks\u001b[0m\u001b[1;33m,\u001b[0m \u001b[0mbarsBegins\u001b[0m\u001b[1;33m,\u001b[0m \u001b[0mbarsEnds\u001b[0m\u001b[1;33m)\u001b[0m\u001b[1;33m\u001b[0m\u001b[0m\n\u001b[0;32m     13\u001b[0m \u001b[1;33m\u001b[0m\u001b[0m\n\u001b[1;32m---> 14\u001b[1;33m \u001b[0mexport_tunes_to_MIDI_file\u001b[0m\u001b[1;33m(\u001b[0m\u001b[0miTunes\u001b[0m\u001b[1;33m,\u001b[0m \u001b[0mimgPath\u001b[0m \u001b[1;33m+\u001b[0m \u001b[1;34m\".mid\"\u001b[0m\u001b[1;33m)\u001b[0m\u001b[1;33m\u001b[0m\u001b[0m\n\u001b[0m",
      "\u001b[1;31mNameError\u001b[0m: name 'imgPath' is not defined"
     ]
    },
    {
     "data": {
      "image/png": "[encoded data removed]",
      "text/plain": [
       "<matplotlib.figure.Figure at 0x7f2d1e1c0ad0>"
      ]
     },
     "metadata": {},
     "output_type": "display_data"
    }
   ],
   "source": [
    "img_path = 'images/test.png'\n",
    "img = load_and_prepare_image(img_path)\n",
    "noteValues = (52, 53, 55, 57, 59, 60, 62, 64, 65, 67, 69, 71, 72, 74, 76, 77, 79, 81, 83)\n",
    "\n",
    "height, width = img.shape[:2]\n",
    "\n",
    "fiveline = create_fiveline(img)\n",
    "\n",
    "checks = create_checks(fiveline)\n",
    "\n",
    "barsBegins, barsEnds = create_bars_coordinates(img, fiveline, checks)\n",
    "\n",
    "iTunes = find_all_notes(noteValues, img, checks, barsBegins, barsEnds)\n",
    "\n",
    "export_tunes_to_MIDI_file(iTunes, 'images/test.png' + \".mid\")"
   ]
  },
  {
   "cell_type": "code",
   "execution_count": null,
   "metadata": {
    "collapsed": false
   },
   "outputs": [],
   "source": [
    "!ipython nbconvert --to script note-play.ipynb"
   ]
  },
  {
   "cell_type": "code",
   "execution_count": null,
   "metadata": {
    "collapsed": true
   },
   "outputs": [],
   "source": []
  }
 ],
 "metadata": {
  "kernelspec": {
   "display_name": "Python 2",
   "language": "python",
   "name": "python2"
  },
  "language_info": {
   "codemirror_mode": {
    "name": "ipython",
    "version": 2
   },
   "file_extension": ".py",
   "mimetype": "text/x-python",
   "name": "python",
   "nbconvert_exporter": "python",
   "pygments_lexer": "ipython2",
   "version": "2.7.11"
  }
 },
 "nbformat": 4,
 "nbformat_minor": 0
}
