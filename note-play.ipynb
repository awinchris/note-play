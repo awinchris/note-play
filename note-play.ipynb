{
 "cells": [
  {
   "cell_type": "code",
   "execution_count": 122,
   "metadata": {
    "collapsed": false
   },
   "outputs": [],
   "source": [
    "__author__ = 'Nikola Djuza RA6-2012'\n",
    "\n",
    "%matplotlib inline\n",
    "import numpy as np\n",
    "import sys\n",
    "import cv2\n",
    "import scipy as sc\n",
    "import matplotlib.pyplot as plt\n",
    "\n",
    "# pylab.rcParams['figure.figsize'] = 16, 12\n",
    "\n",
    "from sklearn.cluster import KMeans\n",
    "from midiutil.MidiFile import MIDIFile"
   ]
  },
  {
   "cell_type": "code",
   "execution_count": 123,
   "metadata": {
    "collapsed": true
   },
   "outputs": [],
   "source": [
    "def load_image(path):\n",
    "    return cv2.cvtColor(cv2.imread(path), cv2.COLOR_BGR2RGB)\n",
    "\n",
    "def display_image(image, color = False):\n",
    "    if color:\n",
    "        plt.imshow(image)\n",
    "    else:\n",
    "        plt.imshow(image, 'gray')\n",
    "\n",
    "def load_and_prepare_image(image_path):\n",
    "    image = load_image(image_path)\n",
    "    \n",
    "    ret, image_bin = cv2.threshold(image, 200, 255, cv2.THRESH_BINARY)\n",
    "\n",
    "    return image_bin"
   ]
  },
  {
   "cell_type": "code",
   "execution_count": 124,
   "metadata": {
    "collapsed": true
   },
   "outputs": [],
   "source": [
    "def createFiveline(image):\n",
    "    edges = cv2.Canny(image, 50, 150, apertureSize=3)\n",
    "\n",
    "    ys = list()\n",
    "    minLineLength = 5\n",
    "    maxLineGap = 30\n",
    "\n",
    "    lines = cv2.HoughLinesP(edges, 1, np.pi / 180, 70, minLineLength, maxLineGap)\n",
    "        \n",
    "\n",
    "    \n",
    "    for line in lines:\n",
    "        for x1, y1, x2, y2 in line:\n",
    "            if (abs(y1 - y2 < 4)):\n",
    "                cv2.line(image, (x1,y1), (x2,y2), (0, 255, 0), 2)\n",
    "                innerlist = list()\n",
    "                innerlist.append((y1 + y2) / 2)\n",
    "                ys.append(innerlist)\n",
    "    \n",
    "    cv2.imwrite('images/houghlines.jpg', image)\n",
    "    display_image(image)\n",
    "\n",
    "    kmeans = KMeans(init='k-means++', n_clusters=5, n_init=10)\n",
    "    kmeans.fit(np.asarray(ys))\n",
    "\n",
    "    fiveline = list()\n",
    "    for innerlist in kmeans.cluster_centers_:\n",
    "        fiveline.append(innerlist[0])\n",
    "\n",
    "    fiveline.sort()\n",
    "    return img"
   ]
  },
  {
   "cell_type": "code",
   "execution_count": 125,
   "metadata": {
    "collapsed": false
   },
   "outputs": [
    {
     "data": {
      "text/plain": [
       "<matplotlib.image.AxesImage at 0x7f8fc2489390>"
      ]
     },
     "execution_count": 125,
     "metadata": {},
     "output_type": "execute_result"
    },
    {
     "data": {
      "image/png": "[encoded data removed]",
      "text/plain": [
       "<matplotlib.figure.Figure at 0x7f8fc26948d0>"
      ]
     },
     "metadata": {},
     "output_type": "display_data"
    }
   ],
   "source": [
    "img = load_and_prepare_image('images/test.png')\n",
    "img = cv2.imread('images/test.png');\n",
    "plt.imshow(img, 'gray')\n",
    "\n",
    "# fiveline = createFiveline(img)"
   ]
  },
  {
   "cell_type": "code",
   "execution_count": null,
   "metadata": {
    "collapsed": true
   },
   "outputs": [],
   "source": []
  }
 ],
 "metadata": {
  "kernelspec": {
   "display_name": "Python 2",
   "language": "python",
   "name": "python2"
  },
  "language_info": {
   "codemirror_mode": {
    "name": "ipython",
    "version": 2
   },
   "file_extension": ".py",
   "mimetype": "text/x-python",
   "name": "python",
   "nbconvert_exporter": "python",
   "pygments_lexer": "ipython2",
   "version": "2.7.10"
  }
 },
 "nbformat": 4,
 "nbformat_minor": 0
}
