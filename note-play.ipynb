{
 "cells": [
  {
   "cell_type": "code",
   "execution_count": 227,
   "metadata": {
    "collapsed": false
   },
   "outputs": [],
   "source": [
    "__author__ = 'Nikola Djuza RA6-2012'\n",
    "\n",
    "%matplotlib inline\n",
    "import numpy as np\n",
    "import collections\n",
    "import sys\n",
    "import cv2\n",
    "import scipy as sc\n",
    "import matplotlib.pyplot as plt\n",
    "\n",
    "# pylab.rcParams['figure.figsize'] = 16, 12\n",
    "\n",
    "from sklearn.cluster import KMeans\n",
    "from midiutil.MidiFile import MIDIFile"
   ]
  },
  {
   "cell_type": "code",
   "execution_count": 228,
   "metadata": {
    "collapsed": true
   },
   "outputs": [],
   "source": [
    "def display_image(image, color = False):\n",
    "    if color:\n",
    "        plt.imshow(image)\n",
    "    else:\n",
    "        plt.imshow(image, 'gray')\n",
    "\n",
    "def load_and_prepare_image(image_path):\n",
    "    image = cv2.imread(image_path)\n",
    "    ret, image_bin = cv2.threshold(image, 200, 255, cv2.THRESH_BINARY)\n",
    "\n",
    "    return image_bin"
   ]
  },
  {
   "cell_type": "code",
   "execution_count": 229,
   "metadata": {
    "collapsed": true
   },
   "outputs": [],
   "source": [
    "def create_fiveline(image):\n",
    "    edges = cv2.Canny(image, 50, 150, apertureSize=3)\n",
    "\n",
    "    ys = list()\n",
    "    minLineLength = 1\n",
    "    maxLineGap = 10\n",
    "\n",
    "    lines = cv2.HoughLinesP(edges, 1, np.pi / 180, 70, minLineLength, maxLineGap)\n",
    "    \n",
    "    for line in lines:\n",
    "        for x1, y1, x2, y2 in line:\n",
    "            cv2.line(image, (x1,y1), (x2,y2), (0, 255, 0), 2)\n",
    "            if (abs(y1 - y2 < 4)):\n",
    "                innerlist = list()\n",
    "                innerlist.append((y1 + y2) / 2)\n",
    "                ys.append(innerlist)\n",
    "    \n",
    "    cv2.imwrite('images/houghlines.jpg', image)\n",
    "    display_image(image)\n",
    "\n",
    "    kmeans = KMeans(init='k-means++', n_clusters=5, n_init=10)\n",
    "    kmeans.fit(np.asarray(ys))\n",
    "\n",
    "    fiveline = list()\n",
    "    for innerlist in kmeans.cluster_centers_:\n",
    "        fiveline.append(innerlist[0])\n",
    "\n",
    "    fiveline.sort()\n",
    "    print fiveline\n",
    "    return fiveline"
   ]
  },
  {
   "cell_type": "code",
   "execution_count": 230,
   "metadata": {
    "collapsed": true
   },
   "outputs": [],
   "source": [
    "def create_checks(fiveline):\n",
    "    checks = list()\n",
    "    dist = abs(fiveline[1] - fiveline[0])\n",
    "    \n",
    "    for line in fiveline:\n",
    "        checks.append(int(line - (dist / 4)))\n",
    "        checks.append(int(line + (dist / 4)))\n",
    "\n",
    "    checks.sort()\n",
    "    checks.reverse()\n",
    "    return checks"
   ]
  },
  {
   "cell_type": "code",
   "execution_count": 231,
   "metadata": {
    "collapsed": false
   },
   "outputs": [
    {
     "name": "stdout",
     "output_type": "stream",
     "text": [
      "[41.068965517241388, 60.951219512195109, 80.872340425531917, 101.28571428571428, 121.5]\n"
     ]
    },
    {
     "data": {
      "image/png": "[encoded data removed]",
      "text/plain": [
       "<matplotlib.figure.Figure at 0x7f8fc19dfa90>"
      ]
     },
     "metadata": {},
     "output_type": "display_data"
    }
   ],
   "source": [
    "img = load_and_prepare_image('images/test.png')\n",
    "\n",
    "height, width = img.shape[:2]\n",
    "\n",
    "fiveline = create_fiveline(img)\n",
    "\n",
    "checks = create_checks(fiveline)"
   ]
  },
  {
   "cell_type": "code",
   "execution_count": 232,
   "metadata": {
    "collapsed": false
   },
   "outputs": [
    {
     "name": "stdout",
     "output_type": "stream",
     "text": [
      "[NbConvertApp] Converting notebook note-play.ipynb to script\n",
      "[NbConvertApp] Writing 2038 bytes to note-play.py\n"
     ]
    }
   ],
   "source": [
    "!ipython nbconvert --to script note-play.ipynb"
   ]
  }
 ],
 "metadata": {
  "kernelspec": {
   "display_name": "Python 2",
   "language": "python",
   "name": "python2"
  },
  "language_info": {
   "codemirror_mode": {
    "name": "ipython",
    "version": 2
   },
   "file_extension": ".py",
   "mimetype": "text/x-python",
   "name": "python",
   "nbconvert_exporter": "python",
   "pygments_lexer": "ipython2",
   "version": "2.7.10"
  }
 },
 "nbformat": 4,
 "nbformat_minor": 0
}
